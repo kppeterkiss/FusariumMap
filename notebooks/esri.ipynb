{
 "cells": [
  {
   "cell_type": "code",
   "execution_count": null,
   "id": "initial_id",
   "metadata": {
    "collapsed": true
   },
   "outputs": [],
   "source": [
    "from arcgis.gis import GIS\n",
    "from arcgis.geocoding import geocode, Geocoder\n",
    "\n",
    "gis = GIS(api_key=\"<YOUR_API_KEY>\")\n",
    "\n",
    "# Location services standard endpoint URL\n",
    "# https://developers.arcgis.com/documentation/mapping-apis-and-services/geocoding/services/geocoding-service/#service-urls\n",
    "geocode_url = Geocoder(\"https://geocode-api.arcgis.com/arcgis/rest/services/World/GeocodeServer/\",gis=gis)\n",
    "\n",
    "geocode_result = geocode(address=\"380 New York Street, Redlands, CA\", geocoder=geocode_url)\n",
    "\n",
    "geocode_result"
   ]
  }
 ],
 "metadata": {
  "kernelspec": {
   "display_name": "Python 3",
   "language": "python",
   "name": "python3"
  },
  "language_info": {
   "codemirror_mode": {
    "name": "ipython",
    "version": 2
   },
   "file_extension": ".py",
   "mimetype": "text/x-python",
   "name": "python",
   "nbconvert_exporter": "python",
   "pygments_lexer": "ipython2",
   "version": "2.7.6"
  }
 },
 "nbformat": 4,
 "nbformat_minor": 5
}
